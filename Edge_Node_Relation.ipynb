{
  "nbformat": 4,
  "nbformat_minor": 0,
  "metadata": {
    "colab": {
      "provenance": []
    },
    "kernelspec": {
      "name": "python3",
      "display_name": "Python 3"
    },
    "language_info": {
      "name": "python"
    },
    "widgets": {
      "application/vnd.jupyter.widget-state+json": {
        "06e383bb370e4ecc8c313dec0a4ba2d2": {
          "model_module": "@jupyter-widgets/controls",
          "model_name": "HBoxModel",
          "model_module_version": "1.5.0",
          "state": {
            "_dom_classes": [],
            "_model_module": "@jupyter-widgets/controls",
            "_model_module_version": "1.5.0",
            "_model_name": "HBoxModel",
            "_view_count": null,
            "_view_module": "@jupyter-widgets/controls",
            "_view_module_version": "1.5.0",
            "_view_name": "HBoxView",
            "box_style": "",
            "children": [
              "IPY_MODEL_6f4df4d6b15b474da5c876aef4143b8a",
              "IPY_MODEL_c9c689e0cf77459ebe9fc632986ce0dc",
              "IPY_MODEL_a403314b1a8143ae80e9b3fe3cedc40c"
            ],
            "layout": "IPY_MODEL_0f76309dad034aff80a7473616b43691"
          }
        },
        "6f4df4d6b15b474da5c876aef4143b8a": {
          "model_module": "@jupyter-widgets/controls",
          "model_name": "HTMLModel",
          "model_module_version": "1.5.0",
          "state": {
            "_dom_classes": [],
            "_model_module": "@jupyter-widgets/controls",
            "_model_module_version": "1.5.0",
            "_model_name": "HTMLModel",
            "_view_count": null,
            "_view_module": "@jupyter-widgets/controls",
            "_view_module_version": "1.5.0",
            "_view_name": "HTMLView",
            "description": "",
            "description_tooltip": null,
            "layout": "IPY_MODEL_5bf451b22fa14fecab3382c5940da9dc",
            "placeholder": "​",
            "style": "IPY_MODEL_5ca9775b76204eb6b9251529a8092614",
            "value": "Computing transition probabilities: 100%"
          }
        },
        "c9c689e0cf77459ebe9fc632986ce0dc": {
          "model_module": "@jupyter-widgets/controls",
          "model_name": "FloatProgressModel",
          "model_module_version": "1.5.0",
          "state": {
            "_dom_classes": [],
            "_model_module": "@jupyter-widgets/controls",
            "_model_module_version": "1.5.0",
            "_model_name": "FloatProgressModel",
            "_view_count": null,
            "_view_module": "@jupyter-widgets/controls",
            "_view_module_version": "1.5.0",
            "_view_name": "ProgressView",
            "bar_style": "success",
            "description": "",
            "description_tooltip": null,
            "layout": "IPY_MODEL_b010c18ca4524d41aa4ce328de882aeb",
            "max": 50,
            "min": 0,
            "orientation": "horizontal",
            "style": "IPY_MODEL_9347500d893c4691a903e9e93bae9e77",
            "value": 50
          }
        },
        "a403314b1a8143ae80e9b3fe3cedc40c": {
          "model_module": "@jupyter-widgets/controls",
          "model_name": "HTMLModel",
          "model_module_version": "1.5.0",
          "state": {
            "_dom_classes": [],
            "_model_module": "@jupyter-widgets/controls",
            "_model_module_version": "1.5.0",
            "_model_name": "HTMLModel",
            "_view_count": null,
            "_view_module": "@jupyter-widgets/controls",
            "_view_module_version": "1.5.0",
            "_view_name": "HTMLView",
            "description": "",
            "description_tooltip": null,
            "layout": "IPY_MODEL_3ec46da31ddd44089556f28cc502fe06",
            "placeholder": "​",
            "style": "IPY_MODEL_00f2266d4cba4c32853dc87818b0d42e",
            "value": " 50/50 [00:00&lt;00:00, 1248.33it/s]"
          }
        },
        "0f76309dad034aff80a7473616b43691": {
          "model_module": "@jupyter-widgets/base",
          "model_name": "LayoutModel",
          "model_module_version": "1.2.0",
          "state": {
            "_model_module": "@jupyter-widgets/base",
            "_model_module_version": "1.2.0",
            "_model_name": "LayoutModel",
            "_view_count": null,
            "_view_module": "@jupyter-widgets/base",
            "_view_module_version": "1.2.0",
            "_view_name": "LayoutView",
            "align_content": null,
            "align_items": null,
            "align_self": null,
            "border": null,
            "bottom": null,
            "display": null,
            "flex": null,
            "flex_flow": null,
            "grid_area": null,
            "grid_auto_columns": null,
            "grid_auto_flow": null,
            "grid_auto_rows": null,
            "grid_column": null,
            "grid_gap": null,
            "grid_row": null,
            "grid_template_areas": null,
            "grid_template_columns": null,
            "grid_template_rows": null,
            "height": null,
            "justify_content": null,
            "justify_items": null,
            "left": null,
            "margin": null,
            "max_height": null,
            "max_width": null,
            "min_height": null,
            "min_width": null,
            "object_fit": null,
            "object_position": null,
            "order": null,
            "overflow": null,
            "overflow_x": null,
            "overflow_y": null,
            "padding": null,
            "right": null,
            "top": null,
            "visibility": null,
            "width": null
          }
        },
        "5bf451b22fa14fecab3382c5940da9dc": {
          "model_module": "@jupyter-widgets/base",
          "model_name": "LayoutModel",
          "model_module_version": "1.2.0",
          "state": {
            "_model_module": "@jupyter-widgets/base",
            "_model_module_version": "1.2.0",
            "_model_name": "LayoutModel",
            "_view_count": null,
            "_view_module": "@jupyter-widgets/base",
            "_view_module_version": "1.2.0",
            "_view_name": "LayoutView",
            "align_content": null,
            "align_items": null,
            "align_self": null,
            "border": null,
            "bottom": null,
            "display": null,
            "flex": null,
            "flex_flow": null,
            "grid_area": null,
            "grid_auto_columns": null,
            "grid_auto_flow": null,
            "grid_auto_rows": null,
            "grid_column": null,
            "grid_gap": null,
            "grid_row": null,
            "grid_template_areas": null,
            "grid_template_columns": null,
            "grid_template_rows": null,
            "height": null,
            "justify_content": null,
            "justify_items": null,
            "left": null,
            "margin": null,
            "max_height": null,
            "max_width": null,
            "min_height": null,
            "min_width": null,
            "object_fit": null,
            "object_position": null,
            "order": null,
            "overflow": null,
            "overflow_x": null,
            "overflow_y": null,
            "padding": null,
            "right": null,
            "top": null,
            "visibility": null,
            "width": null
          }
        },
        "5ca9775b76204eb6b9251529a8092614": {
          "model_module": "@jupyter-widgets/controls",
          "model_name": "DescriptionStyleModel",
          "model_module_version": "1.5.0",
          "state": {
            "_model_module": "@jupyter-widgets/controls",
            "_model_module_version": "1.5.0",
            "_model_name": "DescriptionStyleModel",
            "_view_count": null,
            "_view_module": "@jupyter-widgets/base",
            "_view_module_version": "1.2.0",
            "_view_name": "StyleView",
            "description_width": ""
          }
        },
        "b010c18ca4524d41aa4ce328de882aeb": {
          "model_module": "@jupyter-widgets/base",
          "model_name": "LayoutModel",
          "model_module_version": "1.2.0",
          "state": {
            "_model_module": "@jupyter-widgets/base",
            "_model_module_version": "1.2.0",
            "_model_name": "LayoutModel",
            "_view_count": null,
            "_view_module": "@jupyter-widgets/base",
            "_view_module_version": "1.2.0",
            "_view_name": "LayoutView",
            "align_content": null,
            "align_items": null,
            "align_self": null,
            "border": null,
            "bottom": null,
            "display": null,
            "flex": null,
            "flex_flow": null,
            "grid_area": null,
            "grid_auto_columns": null,
            "grid_auto_flow": null,
            "grid_auto_rows": null,
            "grid_column": null,
            "grid_gap": null,
            "grid_row": null,
            "grid_template_areas": null,
            "grid_template_columns": null,
            "grid_template_rows": null,
            "height": null,
            "justify_content": null,
            "justify_items": null,
            "left": null,
            "margin": null,
            "max_height": null,
            "max_width": null,
            "min_height": null,
            "min_width": null,
            "object_fit": null,
            "object_position": null,
            "order": null,
            "overflow": null,
            "overflow_x": null,
            "overflow_y": null,
            "padding": null,
            "right": null,
            "top": null,
            "visibility": null,
            "width": null
          }
        },
        "9347500d893c4691a903e9e93bae9e77": {
          "model_module": "@jupyter-widgets/controls",
          "model_name": "ProgressStyleModel",
          "model_module_version": "1.5.0",
          "state": {
            "_model_module": "@jupyter-widgets/controls",
            "_model_module_version": "1.5.0",
            "_model_name": "ProgressStyleModel",
            "_view_count": null,
            "_view_module": "@jupyter-widgets/base",
            "_view_module_version": "1.2.0",
            "_view_name": "StyleView",
            "bar_color": null,
            "description_width": ""
          }
        },
        "3ec46da31ddd44089556f28cc502fe06": {
          "model_module": "@jupyter-widgets/base",
          "model_name": "LayoutModel",
          "model_module_version": "1.2.0",
          "state": {
            "_model_module": "@jupyter-widgets/base",
            "_model_module_version": "1.2.0",
            "_model_name": "LayoutModel",
            "_view_count": null,
            "_view_module": "@jupyter-widgets/base",
            "_view_module_version": "1.2.0",
            "_view_name": "LayoutView",
            "align_content": null,
            "align_items": null,
            "align_self": null,
            "border": null,
            "bottom": null,
            "display": null,
            "flex": null,
            "flex_flow": null,
            "grid_area": null,
            "grid_auto_columns": null,
            "grid_auto_flow": null,
            "grid_auto_rows": null,
            "grid_column": null,
            "grid_gap": null,
            "grid_row": null,
            "grid_template_areas": null,
            "grid_template_columns": null,
            "grid_template_rows": null,
            "height": null,
            "justify_content": null,
            "justify_items": null,
            "left": null,
            "margin": null,
            "max_height": null,
            "max_width": null,
            "min_height": null,
            "min_width": null,
            "object_fit": null,
            "object_position": null,
            "order": null,
            "overflow": null,
            "overflow_x": null,
            "overflow_y": null,
            "padding": null,
            "right": null,
            "top": null,
            "visibility": null,
            "width": null
          }
        },
        "00f2266d4cba4c32853dc87818b0d42e": {
          "model_module": "@jupyter-widgets/controls",
          "model_name": "DescriptionStyleModel",
          "model_module_version": "1.5.0",
          "state": {
            "_model_module": "@jupyter-widgets/controls",
            "_model_module_version": "1.5.0",
            "_model_name": "DescriptionStyleModel",
            "_view_count": null,
            "_view_module": "@jupyter-widgets/base",
            "_view_module_version": "1.2.0",
            "_view_name": "StyleView",
            "description_width": ""
          }
        },
        "9f0c09930a264065a42ca5ed0817aaaa": {
          "model_module": "@jupyter-widgets/controls",
          "model_name": "HBoxModel",
          "model_module_version": "1.5.0",
          "state": {
            "_dom_classes": [],
            "_model_module": "@jupyter-widgets/controls",
            "_model_module_version": "1.5.0",
            "_model_name": "HBoxModel",
            "_view_count": null,
            "_view_module": "@jupyter-widgets/controls",
            "_view_module_version": "1.5.0",
            "_view_name": "HBoxView",
            "box_style": "",
            "children": [
              "IPY_MODEL_6fdaa63c5cbc481d8a0845d7f3eb96b1",
              "IPY_MODEL_a59fe612984c4a20a7dfc98a712194c9",
              "IPY_MODEL_80c7daf1691441a49c43f2f8b23ba75b"
            ],
            "layout": "IPY_MODEL_72a74b7afc9a44fe86c2b8ba3e7eee29"
          }
        },
        "6fdaa63c5cbc481d8a0845d7f3eb96b1": {
          "model_module": "@jupyter-widgets/controls",
          "model_name": "HTMLModel",
          "model_module_version": "1.5.0",
          "state": {
            "_dom_classes": [],
            "_model_module": "@jupyter-widgets/controls",
            "_model_module_version": "1.5.0",
            "_model_name": "HTMLModel",
            "_view_count": null,
            "_view_module": "@jupyter-widgets/controls",
            "_view_module_version": "1.5.0",
            "_view_name": "HTMLView",
            "description": "",
            "description_tooltip": null,
            "layout": "IPY_MODEL_b5e9ea5f7d48456a9c9c0d8ca01b71ff",
            "placeholder": "​",
            "style": "IPY_MODEL_420dbbcfd7fc44fca8138aa3a75015eb",
            "value": "Computing transition probabilities: 100%"
          }
        },
        "a59fe612984c4a20a7dfc98a712194c9": {
          "model_module": "@jupyter-widgets/controls",
          "model_name": "FloatProgressModel",
          "model_module_version": "1.5.0",
          "state": {
            "_dom_classes": [],
            "_model_module": "@jupyter-widgets/controls",
            "_model_module_version": "1.5.0",
            "_model_name": "FloatProgressModel",
            "_view_count": null,
            "_view_module": "@jupyter-widgets/controls",
            "_view_module_version": "1.5.0",
            "_view_name": "ProgressView",
            "bar_style": "success",
            "description": "",
            "description_tooltip": null,
            "layout": "IPY_MODEL_23085535543e48079da67a804d61907b",
            "max": 10,
            "min": 0,
            "orientation": "horizontal",
            "style": "IPY_MODEL_37753b082d8a4b08b1e41492e760b9d7",
            "value": 10
          }
        },
        "80c7daf1691441a49c43f2f8b23ba75b": {
          "model_module": "@jupyter-widgets/controls",
          "model_name": "HTMLModel",
          "model_module_version": "1.5.0",
          "state": {
            "_dom_classes": [],
            "_model_module": "@jupyter-widgets/controls",
            "_model_module_version": "1.5.0",
            "_model_name": "HTMLModel",
            "_view_count": null,
            "_view_module": "@jupyter-widgets/controls",
            "_view_module_version": "1.5.0",
            "_view_name": "HTMLView",
            "description": "",
            "description_tooltip": null,
            "layout": "IPY_MODEL_d158dadb3fc74bbdb11c4e00d60d2f03",
            "placeholder": "​",
            "style": "IPY_MODEL_2068ad9210784e6c937f1bdf1dd2dfc0",
            "value": " 10/10 [00:00&lt;00:00, 152.05it/s]"
          }
        },
        "72a74b7afc9a44fe86c2b8ba3e7eee29": {
          "model_module": "@jupyter-widgets/base",
          "model_name": "LayoutModel",
          "model_module_version": "1.2.0",
          "state": {
            "_model_module": "@jupyter-widgets/base",
            "_model_module_version": "1.2.0",
            "_model_name": "LayoutModel",
            "_view_count": null,
            "_view_module": "@jupyter-widgets/base",
            "_view_module_version": "1.2.0",
            "_view_name": "LayoutView",
            "align_content": null,
            "align_items": null,
            "align_self": null,
            "border": null,
            "bottom": null,
            "display": null,
            "flex": null,
            "flex_flow": null,
            "grid_area": null,
            "grid_auto_columns": null,
            "grid_auto_flow": null,
            "grid_auto_rows": null,
            "grid_column": null,
            "grid_gap": null,
            "grid_row": null,
            "grid_template_areas": null,
            "grid_template_columns": null,
            "grid_template_rows": null,
            "height": null,
            "justify_content": null,
            "justify_items": null,
            "left": null,
            "margin": null,
            "max_height": null,
            "max_width": null,
            "min_height": null,
            "min_width": null,
            "object_fit": null,
            "object_position": null,
            "order": null,
            "overflow": null,
            "overflow_x": null,
            "overflow_y": null,
            "padding": null,
            "right": null,
            "top": null,
            "visibility": null,
            "width": null
          }
        },
        "b5e9ea5f7d48456a9c9c0d8ca01b71ff": {
          "model_module": "@jupyter-widgets/base",
          "model_name": "LayoutModel",
          "model_module_version": "1.2.0",
          "state": {
            "_model_module": "@jupyter-widgets/base",
            "_model_module_version": "1.2.0",
            "_model_name": "LayoutModel",
            "_view_count": null,
            "_view_module": "@jupyter-widgets/base",
            "_view_module_version": "1.2.0",
            "_view_name": "LayoutView",
            "align_content": null,
            "align_items": null,
            "align_self": null,
            "border": null,
            "bottom": null,
            "display": null,
            "flex": null,
            "flex_flow": null,
            "grid_area": null,
            "grid_auto_columns": null,
            "grid_auto_flow": null,
            "grid_auto_rows": null,
            "grid_column": null,
            "grid_gap": null,
            "grid_row": null,
            "grid_template_areas": null,
            "grid_template_columns": null,
            "grid_template_rows": null,
            "height": null,
            "justify_content": null,
            "justify_items": null,
            "left": null,
            "margin": null,
            "max_height": null,
            "max_width": null,
            "min_height": null,
            "min_width": null,
            "object_fit": null,
            "object_position": null,
            "order": null,
            "overflow": null,
            "overflow_x": null,
            "overflow_y": null,
            "padding": null,
            "right": null,
            "top": null,
            "visibility": null,
            "width": null
          }
        },
        "420dbbcfd7fc44fca8138aa3a75015eb": {
          "model_module": "@jupyter-widgets/controls",
          "model_name": "DescriptionStyleModel",
          "model_module_version": "1.5.0",
          "state": {
            "_model_module": "@jupyter-widgets/controls",
            "_model_module_version": "1.5.0",
            "_model_name": "DescriptionStyleModel",
            "_view_count": null,
            "_view_module": "@jupyter-widgets/base",
            "_view_module_version": "1.2.0",
            "_view_name": "StyleView",
            "description_width": ""
          }
        },
        "23085535543e48079da67a804d61907b": {
          "model_module": "@jupyter-widgets/base",
          "model_name": "LayoutModel",
          "model_module_version": "1.2.0",
          "state": {
            "_model_module": "@jupyter-widgets/base",
            "_model_module_version": "1.2.0",
            "_model_name": "LayoutModel",
            "_view_count": null,
            "_view_module": "@jupyter-widgets/base",
            "_view_module_version": "1.2.0",
            "_view_name": "LayoutView",
            "align_content": null,
            "align_items": null,
            "align_self": null,
            "border": null,
            "bottom": null,
            "display": null,
            "flex": null,
            "flex_flow": null,
            "grid_area": null,
            "grid_auto_columns": null,
            "grid_auto_flow": null,
            "grid_auto_rows": null,
            "grid_column": null,
            "grid_gap": null,
            "grid_row": null,
            "grid_template_areas": null,
            "grid_template_columns": null,
            "grid_template_rows": null,
            "height": null,
            "justify_content": null,
            "justify_items": null,
            "left": null,
            "margin": null,
            "max_height": null,
            "max_width": null,
            "min_height": null,
            "min_width": null,
            "object_fit": null,
            "object_position": null,
            "order": null,
            "overflow": null,
            "overflow_x": null,
            "overflow_y": null,
            "padding": null,
            "right": null,
            "top": null,
            "visibility": null,
            "width": null
          }
        },
        "37753b082d8a4b08b1e41492e760b9d7": {
          "model_module": "@jupyter-widgets/controls",
          "model_name": "ProgressStyleModel",
          "model_module_version": "1.5.0",
          "state": {
            "_model_module": "@jupyter-widgets/controls",
            "_model_module_version": "1.5.0",
            "_model_name": "ProgressStyleModel",
            "_view_count": null,
            "_view_module": "@jupyter-widgets/base",
            "_view_module_version": "1.2.0",
            "_view_name": "StyleView",
            "bar_color": null,
            "description_width": ""
          }
        },
        "d158dadb3fc74bbdb11c4e00d60d2f03": {
          "model_module": "@jupyter-widgets/base",
          "model_name": "LayoutModel",
          "model_module_version": "1.2.0",
          "state": {
            "_model_module": "@jupyter-widgets/base",
            "_model_module_version": "1.2.0",
            "_model_name": "LayoutModel",
            "_view_count": null,
            "_view_module": "@jupyter-widgets/base",
            "_view_module_version": "1.2.0",
            "_view_name": "LayoutView",
            "align_content": null,
            "align_items": null,
            "align_self": null,
            "border": null,
            "bottom": null,
            "display": null,
            "flex": null,
            "flex_flow": null,
            "grid_area": null,
            "grid_auto_columns": null,
            "grid_auto_flow": null,
            "grid_auto_rows": null,
            "grid_column": null,
            "grid_gap": null,
            "grid_row": null,
            "grid_template_areas": null,
            "grid_template_columns": null,
            "grid_template_rows": null,
            "height": null,
            "justify_content": null,
            "justify_items": null,
            "left": null,
            "margin": null,
            "max_height": null,
            "max_width": null,
            "min_height": null,
            "min_width": null,
            "object_fit": null,
            "object_position": null,
            "order": null,
            "overflow": null,
            "overflow_x": null,
            "overflow_y": null,
            "padding": null,
            "right": null,
            "top": null,
            "visibility": null,
            "width": null
          }
        },
        "2068ad9210784e6c937f1bdf1dd2dfc0": {
          "model_module": "@jupyter-widgets/controls",
          "model_name": "DescriptionStyleModel",
          "model_module_version": "1.5.0",
          "state": {
            "_model_module": "@jupyter-widgets/controls",
            "_model_module_version": "1.5.0",
            "_model_name": "DescriptionStyleModel",
            "_view_count": null,
            "_view_module": "@jupyter-widgets/base",
            "_view_module_version": "1.2.0",
            "_view_name": "StyleView",
            "description_width": ""
          }
        }
      }
    }
  },
  "cells": [
    {
      "cell_type": "code",
      "source": [
        "!pip install node2vec\n",
        "!pip install numba\n",
        "!pip install gensim\n",
        "!pip install gem"
      ],
      "metadata": {
        "id": "H1f0Mbz1YUFV",
        "colab": {
          "base_uri": "https://localhost:8080/",
          "height": 828
        },
        "outputId": "a6845b50-22c8-4bf2-9f9c-8c5c6202960d"
      },
      "execution_count": null,
      "outputs": [
        {
          "output_type": "stream",
          "name": "stdout",
          "text": [
            "Collecting node2vec\n",
            "  Downloading node2vec-0.4.6-py3-none-any.whl (7.0 kB)\n",
            "Requirement already satisfied: gensim<5.0.0,>=4.1.2 in /usr/local/lib/python3.10/dist-packages (from node2vec) (4.3.2)\n",
            "Requirement already satisfied: joblib<2.0.0,>=1.1.0 in /usr/local/lib/python3.10/dist-packages (from node2vec) (1.3.2)\n",
            "Collecting networkx<3.0,>=2.5 (from node2vec)\n",
            "  Downloading networkx-2.8.8-py3-none-any.whl (2.0 MB)\n",
            "\u001b[2K     \u001b[90m━━━━━━━━━━━━━━━━━━━━━━━━━━━━━━━━━━━━━━━━\u001b[0m \u001b[32m2.0/2.0 MB\u001b[0m \u001b[31m16.3 MB/s\u001b[0m eta \u001b[36m0:00:00\u001b[0m\n",
            "\u001b[?25hRequirement already satisfied: numpy<2.0.0,>=1.19.5 in /usr/local/lib/python3.10/dist-packages (from node2vec) (1.23.5)\n",
            "Requirement already satisfied: tqdm<5.0.0,>=4.55.1 in /usr/local/lib/python3.10/dist-packages (from node2vec) (4.66.1)\n",
            "Requirement already satisfied: scipy>=1.7.0 in /usr/local/lib/python3.10/dist-packages (from gensim<5.0.0,>=4.1.2->node2vec) (1.11.4)\n",
            "Requirement already satisfied: smart-open>=1.8.1 in /usr/local/lib/python3.10/dist-packages (from gensim<5.0.0,>=4.1.2->node2vec) (6.4.0)\n",
            "Installing collected packages: networkx, node2vec\n",
            "  Attempting uninstall: networkx\n",
            "    Found existing installation: networkx 3.2.1\n",
            "    Uninstalling networkx-3.2.1:\n",
            "      Successfully uninstalled networkx-3.2.1\n",
            "\u001b[31mERROR: pip's dependency resolver does not currently take into account all the packages that are installed. This behaviour is the source of the following dependency conflicts.\n",
            "lida 0.0.10 requires fastapi, which is not installed.\n",
            "lida 0.0.10 requires kaleido, which is not installed.\n",
            "lida 0.0.10 requires python-multipart, which is not installed.\n",
            "lida 0.0.10 requires uvicorn, which is not installed.\u001b[0m\u001b[31m\n",
            "\u001b[0mSuccessfully installed networkx-2.8.8 node2vec-0.4.6\n"
          ]
        },
        {
          "output_type": "display_data",
          "data": {
            "application/vnd.colab-display-data+json": {
              "pip_warning": {
                "packages": [
                  "networkx"
                ]
              }
            }
          },
          "metadata": {}
        },
        {
          "output_type": "stream",
          "name": "stdout",
          "text": [
            "Requirement already satisfied: numba in /usr/local/lib/python3.10/dist-packages (0.58.1)\n",
            "Requirement already satisfied: llvmlite<0.42,>=0.41.0dev0 in /usr/local/lib/python3.10/dist-packages (from numba) (0.41.1)\n",
            "Requirement already satisfied: numpy<1.27,>=1.22 in /usr/local/lib/python3.10/dist-packages (from numba) (1.23.5)\n",
            "Requirement already satisfied: gensim in /usr/local/lib/python3.10/dist-packages (4.3.2)\n",
            "Requirement already satisfied: numpy>=1.18.5 in /usr/local/lib/python3.10/dist-packages (from gensim) (1.23.5)\n",
            "Requirement already satisfied: scipy>=1.7.0 in /usr/local/lib/python3.10/dist-packages (from gensim) (1.11.4)\n",
            "Requirement already satisfied: smart-open>=1.8.1 in /usr/local/lib/python3.10/dist-packages (from gensim) (6.4.0)\n",
            "Collecting gem\n",
            "  Downloading gem-0.1.12.tar.gz (15 kB)\n",
            "  Preparing metadata (setup.py) ... \u001b[?25l\u001b[?25hdone\n",
            "Requirement already satisfied: six in /usr/local/lib/python3.10/dist-packages (from gem) (1.16.0)\n",
            "Building wheels for collected packages: gem\n",
            "  Building wheel for gem (setup.py) ... \u001b[?25l\u001b[?25hdone\n",
            "  Created wheel for gem: filename=gem-0.1.12-py3-none-any.whl size=15442 sha256=f56ccb4f2fd14bd3beafb8c6c0182dde415ed10bd95ed45c304e0def100c762f\n",
            "  Stored in directory: /root/.cache/pip/wheels/8b/7c/66/504c28dc3a8ce2db0dc53adef93e8fc66aedc2f493840ed99b\n",
            "Successfully built gem\n",
            "Installing collected packages: gem\n",
            "Successfully installed gem-0.1.12\n"
          ]
        }
      ]
    },
    {
      "cell_type": "code",
      "source": [
        "import networkx as nx\n",
        "import numpy as np\n",
        "import matplotlib.pyplot as plt\n",
        "import gem as gem\n",
        "from sklearn.model_selection import train_test_split, GridSearchCV\n",
        "from sklearn.ensemble import RandomForestClassifier\n",
        "from sklearn.metrics import accuracy_score\n",
        "from sklearn.linear_model import LogisticRegression\n",
        "from sklearn.metrics import accuracy_score\n",
        "from node2vec import Node2Vec\n",
        "import random"
      ],
      "metadata": {
        "id": "E6LNLcr6NmMD"
      },
      "execution_count": null,
      "outputs": []
    },
    {
      "cell_type": "code",
      "source": [
        "# # Function to extract features from the graph\n",
        "# def extract_features(G, node1, node2):\n",
        "#     features = []\n",
        "#     features.append(len(list(nx.common_neighbors(G, node1, node2))))\n",
        "#     features.append(len(list(nx.all_neighbors(G, node1))))\n",
        "#     features.append(len(list(nx.all_neighbors(G, node2))))\n",
        "#     return features"
      ],
      "metadata": {
        "id": "1srRtw06Npww"
      },
      "execution_count": null,
      "outputs": []
    },
    {
      "cell_type": "code",
      "source": [
        "def create_hardcoded_graph():\n",
        "    G = nx.Graph()\n",
        "\n",
        "    no_of_families=2\n",
        "    n=no_of_families*5\n",
        "\n",
        "    # family_nodes1 = [i for i in range(0,5)]\n",
        "    # G.add_edges_from([(i, (i + 1) % 5, {'relationship': 'family'}) for i in family_nodes1])\n",
        "\n",
        "    # family_nodes2 = [i for i in range(5,10)]\n",
        "    # G.add_edges_from([(i, (i + 1) % 5 + 5, {'relationship': 'family'}) for i in family_nodes2])\n",
        "\n",
        "    for i in range(0,n,5):\n",
        "      G.add_edges_from([(j, (j + 1) % 5+i, {'relationship': 'F'}) for j in range(i,i+5)])\n",
        "\n",
        "    for i in range(0,n-5,5):\n",
        "      G.add_edges_from([(j,  j+ 5, {'relationship': 'C'}) for j in range(i,i+4)])\n",
        "\n",
        "    G.add_edges_from([(9,6, {'relationship': 'F'})])\n",
        "    G.add_edges_from([(6,9, {'relationship': 'F'})])\n",
        "    G.add_edges_from([(8,6, {'relationship': 'F'})])\n",
        "    G.add_edges_from([(6,8, {'relationship': 'F'})])\n",
        "\n",
        "    G.add_edges_from([(1, 9, {'relationship': 'N'}),\n",
        "                      (1, 6, {'relationship': 'N'}),\n",
        "                      (2, 7, {'relationship': 'N'})])\n",
        "    return G"
      ],
      "metadata": {
        "id": "zXPVuiLW4AOH"
      },
      "execution_count": null,
      "outputs": []
    },
    {
      "cell_type": "code",
      "source": [
        "def custom_train_test_split(G, test_size=0.2, random_state=None):\n",
        "    edges = list(G.edges(data=True))\n",
        "\n",
        "    # Separate edges based on relationship type\n",
        "    family_edges = [(node1, node2, data) for node1, node2, data in edges if data['relationship'] == 'F']\n",
        "    colleague_edges = [(node1, node2, data) for node1, node2, data in edges if data['relationship'] == 'C']\n",
        "    non_relationship_edges = [(node1, node2, data) for node1, node2, data in edges if data['relationship'] == 'N']\n",
        "\n",
        "    # Perform train-test split for each relationship type\n",
        "    family_train, family_test = train_test_split(family_edges, test_size=test_size, random_state=random_state)\n",
        "    colleague_train, colleague_test = train_test_split(colleague_edges, test_size=test_size, random_state=random_state)\n",
        "    non_relationship_train, non_relationship_test = train_test_split(non_relationship_edges, test_size=test_size, random_state=random_state)\n",
        "\n",
        "    # Concatenate the split edges to get the final train and test sets\n",
        "    train_edges = family_train + colleague_train + non_relationship_train\n",
        "    test_edges = family_test + colleague_test + non_relationship_test\n",
        "\n",
        "    return train_edges, test_edges"
      ],
      "metadata": {
        "id": "Q9wvemfAzQBV"
      },
      "execution_count": null,
      "outputs": []
    },
    {
      "cell_type": "code",
      "source": [
        "def plot_graph(G):\n",
        "    pos = nx.spring_layout(G)  # Layout for node positions\n",
        "    labels = nx.get_edge_attributes(G, 'relationship')\n",
        "\n",
        "    # Separate edges based on relationship type\n",
        "    family_edges = [(node1, node2) for node1, node2, data in G.edges(data=True) if data['relationship'] == 'F']\n",
        "    norel_edges = [(node1, node2) for node1, node2, data in G.edges(data=True) if data['relationship'] == 'N']\n",
        "    colleague_edges = [(node1, node2) for node1, node2, data in G.edges(data=True) if data['relationship'] == 'C']\n",
        "\n",
        "    # Draw nodes\n",
        "    nx.draw_networkx_nodes(G, pos, node_size=200, node_color='lightblue')\n",
        "\n",
        "    # Draw edges with different colors based on relationship type\n",
        "    nx.draw_networkx_edges(G, pos, edgelist=family_edges, edge_color='r', label='Family')\n",
        "    nx.draw_networkx_edges(G, pos, edgelist=norel_edges, edge_color='y', label='No Relationship')\n",
        "    nx.draw_networkx_edges(G, pos, edgelist=colleague_edges, edge_color='b', label='Colleague')\n",
        "\n",
        "    # Draw labels and legend\n",
        "    nx.draw_networkx_labels(G, pos)\n",
        "    nx.draw_networkx_edge_labels(G, pos, edge_labels=labels)\n",
        "    plt.legend()\n",
        "\n",
        "    plt.title(\"Graph with Edge Classifications\")\n",
        "    plt.show()"
      ],
      "metadata": {
        "id": "yE9kshSF-GZO"
      },
      "execution_count": null,
      "outputs": []
    },
    {
      "cell_type": "code",
      "source": [
        "def node_embedding_feature_extraction(G):\n",
        "    node2vec = Node2Vec(G, dimensions=64, walk_length=30, num_walks=200, workers=4)\n",
        "    model = node2vec.fit(window=10, min_count=1, batch_words=4)\n",
        "    embeddings = {node: model.wv[node] for node in G.nodes()}\n",
        "    return embeddings"
      ],
      "metadata": {
        "id": "TUQUSHH4TOP_"
      },
      "execution_count": null,
      "outputs": []
    },
    {
      "cell_type": "code",
      "source": [
        "from sklearn.metrics import accuracy_score\n",
        "\n",
        "def train_model(G, embeddings, train_edges, test_edges):\n",
        "    # Train the model\n",
        "    edges_train = train_edges\n",
        "    X_train = np.array([np.concatenate([embeddings[node1], embeddings[node2]]) for node1, node2, data in edges_train])\n",
        "    y_train = np.array([data['relationship'] for node1, node2, data in edges_train])\n",
        "\n",
        "    model = LogisticRegression()\n",
        "    model.fit(X_train, y_train)\n",
        "\n",
        "    # Test the model\n",
        "    edges_test = test_edges\n",
        "    X_test = np.array([np.concatenate([embeddings[node1], embeddings[node2]]) for node1, node2, data in edges_test])\n",
        "    y_test = np.array([data['relationship'] for node1, node2, data in edges_test])\n",
        "\n",
        "    # Predict on the test set\n",
        "    y_pred = model.predict(X_test)\n",
        "\n",
        "    # Calculate and print test accuracy\n",
        "    test_accuracy = accuracy_score(y_test, y_pred)\n",
        "    print(\"Test Accuracy:\", test_accuracy)\n",
        "\n",
        "    return model"
      ],
      "metadata": {
        "id": "kNjJOCmcTSVt"
      },
      "execution_count": null,
      "outputs": []
    },
    {
      "cell_type": "code",
      "source": [
        "G_hardcoded = create_hardcoded_graph()\n",
        "plot_graph(G_hardcoded)\n",
        "train_edges, test_edges = custom_train_test_split(G_hardcoded, test_size=0.2, random_state=42)"
      ],
      "metadata": {
        "colab": {
          "base_uri": "https://localhost:8080/",
          "height": 428
        },
        "id": "wejsgcXfWubC",
        "outputId": "447dea6a-7118-4432-92da-ed8ef136f045"
      },
      "execution_count": null,
      "outputs": [
        {
          "output_type": "display_data",
          "data": {
            "text/plain": [
              "<Figure size 640x480 with 1 Axes>"
            ],
            "image/png": "[encoded data removed]"
          },
          "metadata": {}
        }
      ]
    },
    {
      "cell_type": "code",
      "source": [
        "# edges = G_hardcoded.edges(data=True)\n",
        "# for edge in edges:\n",
        "#     print(edge)"
      ],
      "metadata": {
        "id": "IP6it-vJ9E_K"
      },
      "execution_count": null,
      "outputs": []
    },
    {
      "cell_type": "code",
      "source": [
        "# Assuming you already have the embeddings (e.g., using DeepWalk or Node2Vec)\n",
        "embeddings = node_embedding_feature_extraction(G_hardcoded)\n",
        "\n",
        "# Train and test the model\n",
        "trained_model = train_model(G_hardcoded, embeddings, train_edges, test_edges)"
      ],
      "metadata": {
        "colab": {
          "base_uri": "https://localhost:8080/",
          "height": 66,
          "referenced_widgets": [
            "06e383bb370e4ecc8c313dec0a4ba2d2",
            "6f4df4d6b15b474da5c876aef4143b8a",
            "c9c689e0cf77459ebe9fc632986ce0dc",
            "a403314b1a8143ae80e9b3fe3cedc40c",
            "0f76309dad034aff80a7473616b43691",
            "5bf451b22fa14fecab3382c5940da9dc",
            "5ca9775b76204eb6b9251529a8092614",
            "b010c18ca4524d41aa4ce328de882aeb",
            "9347500d893c4691a903e9e93bae9e77",
            "3ec46da31ddd44089556f28cc502fe06",
            "00f2266d4cba4c32853dc87818b0d42e"
          ]
        },
        "id": "Dq93Fkd14Gkd",
        "outputId": "1e657800-30a7-4b86-9c22-48e5b7451f00"
      },
      "execution_count": null,
      "outputs": [
        {
          "output_type": "display_data",
          "data": {
            "text/plain": [
              "Computing transition probabilities:   0%|          | 0/50 [00:00<?, ?it/s]"
            ],
            "application/vnd.jupyter.widget-view+json": {
              "version_major": 2,
              "version_minor": 0,
              "model_id": "06e383bb370e4ecc8c313dec0a4ba2d2"
            }
          },
          "metadata": {}
        },
        {
          "output_type": "stream",
          "name": "stdout",
          "text": [
            "Test Accuracy: 0.21052631578947367\n"
          ]
        }
      ]
    },
    {
      "cell_type": "code",
      "source": [
        "def predict_relationship_between_nodes(model, embeddings, node1, node2):\n",
        "    # Obtain node embeddings\n",
        "    embedding1 = embeddings[node1]\n",
        "    embedding2 = embeddings[node2]\n",
        "\n",
        "    # Concatenate the embeddings\n",
        "    features = np.concatenate([embedding1, embedding2]).reshape(1, -1)\n",
        "\n",
        "    # Predict the relationship using the trained model\n",
        "    relationship_prob = model.predict_proba(features)[0]\n",
        "\n",
        "    return relationship_prob"
      ],
      "metadata": {
        "id": "bAXIa2MtXV0o"
      },
      "execution_count": null,
      "outputs": []
    },
    {
      "cell_type": "code",
      "source": [
        "node1 = 6\n",
        "node2 = 7\n",
        "\n",
        "relationship_prob = predict_relationship_between_nodes(trained_model, embeddings, node1, node2)\n",
        "print(f\"Probability of Family relationship: {relationship_prob[2]:.2f}\")\n",
        "print(f\"Probability of Colleague relationship: {relationship_prob[1]:.2f}\")\n",
        "print(f\"Probability of No relationship: {relationship_prob[0]:.2f}\")\n",
        "# if(relationship_prob[0]>0.29):\n",
        "#   print(\"Colleague Relationship\")\n",
        "# else:\n",
        "#   print(\"Family Relationship\")"
      ],
      "metadata": {
        "colab": {
          "base_uri": "https://localhost:8080/"
        },
        "id": "-wDj1RBVY6EO",
        "outputId": "76fc2f70-5829-48b6-bcb4-4372bdb8bac0"
      },
      "execution_count": null,
      "outputs": [
        {
          "output_type": "stream",
          "name": "stdout",
          "text": [
            "Probability of Family relationship: 0.07\n",
            "Probability of Colleague relationship: 0.58\n",
            "Probability of No relationship: 0.35\n"
          ]
        }
      ]
    },
    {
      "cell_type": "code",
      "source": [
        "embedding_1 = embeddings[1]\n",
        "embedding_4 = embeddings[2]"
      ],
      "metadata": {
        "id": "mQBMnMWUB-Em"
      },
      "execution_count": null,
      "outputs": []
    },
    {
      "cell_type": "code",
      "source": [
        "from sklearn.metrics.pairwise import cosine_similarity\n",
        "\n",
        "# Reshape embeddings for sklearn cosine_similarity function\n",
        "embedding_1_reshaped = embedding_1.reshape(1, -1)\n",
        "embedding_4_reshaped = embedding_4.reshape(1, -1)\n",
        "\n",
        "# Calculate cosine similarity\n",
        "cosine_sim = cosine_similarity(embedding_1_reshaped, embedding_4_reshaped)[0][0]\n",
        "\n",
        "print(f\"Cosine Similarity between Node 6 and Node 7: {cosine_sim:.4f}\")\n"
      ],
      "metadata": {
        "colab": {
          "base_uri": "https://localhost:8080/"
        },
        "id": "7e-1qb4JCNDt",
        "outputId": "27ecf0e9-c5f2-4e85-dd81-5c316b8d92fd"
      },
      "execution_count": null,
      "outputs": [
        {
          "output_type": "stream",
          "name": "stdout",
          "text": [
            "Cosine Similarity between Node 6 and Node 7: 0.0117\n"
          ]
        }
      ]
    },
    {
      "cell_type": "code",
      "source": [
        "G = nx.Graph()\n",
        "no_of_families=2\n",
        "n=no_of_families*5\n",
        "# family_nodes1 = [i for i in range(0,5)]\n",
        "# G.add_edges_from([(i, (i + 1) % 5, {'relationship': 'family'}) for i in family_nodes1])\n",
        "# family_nodes2 = [i for i in range(5,10)]\n",
        "# G.add_edges_from([(i, (i + 1) % 5 + 5, {'relationship': 'family'}) for i in family_nodes2])\n",
        "for i in range(0,n,5):\n",
        "  G.add_edges_from([(j, (j + 1) % 5+i, {'relationship': 'F'}) for j in range(i,i+5)])\n",
        "for i in range(0,n-5,5):\n",
        "  G.add_edges_from([(j,  j+ 5, {'relationship': 'N'}) for j in range(i,i+4)])"
      ],
      "metadata": {
        "id": "AC8T25L5amxe"
      },
      "execution_count": null,
      "outputs": []
    },
    {
      "cell_type": "code",
      "source": [
        "plot_graph(G)"
      ],
      "metadata": {
        "colab": {
          "base_uri": "https://localhost:8080/",
          "height": 428
        },
        "id": "HONCkPaaa6hK",
        "outputId": "30d4ff13-6395-497a-fc74-127a3ff81f68"
      },
      "execution_count": null,
      "outputs": [
        {
          "output_type": "display_data",
          "data": {
            "text/plain": [
              "<Figure size 640x480 with 1 Axes>"
            ],
            "image/png": "[encoded data removed]"
          },
          "metadata": {}
        }
      ]
    },
    {
      "cell_type": "code",
      "source": [
        "# Assuming you already have the embeddings for G_hardcoded\n",
        "embeddings_hardcoded = node_embedding_feature_extraction(G_hardcoded)\n",
        "\n",
        "# Train the model on G_hardcoded\n",
        "trained_model_hardcoded = train_model(G_hardcoded, embeddings_hardcoded, train_edges, test_edges)\n"
      ],
      "metadata": {
        "colab": {
          "base_uri": "https://localhost:8080/",
          "height": 49,
          "referenced_widgets": [
            "9f0c09930a264065a42ca5ed0817aaaa",
            "6fdaa63c5cbc481d8a0845d7f3eb96b1",
            "a59fe612984c4a20a7dfc98a712194c9",
            "80c7daf1691441a49c43f2f8b23ba75b",
            "72a74b7afc9a44fe86c2b8ba3e7eee29",
            "b5e9ea5f7d48456a9c9c0d8ca01b71ff",
            "420dbbcfd7fc44fca8138aa3a75015eb",
            "23085535543e48079da67a804d61907b",
            "37753b082d8a4b08b1e41492e760b9d7",
            "d158dadb3fc74bbdb11c4e00d60d2f03",
            "2068ad9210784e6c937f1bdf1dd2dfc0"
          ]
        },
        "id": "aLWoSs4aa-Sx",
        "outputId": "92a2d48c-b3f3-4326-80fd-5e1ac1cc1acb"
      },
      "execution_count": null,
      "outputs": [
        {
          "output_type": "display_data",
          "data": {
            "text/plain": [
              "Computing transition probabilities:   0%|          | 0/10 [00:00<?, ?it/s]"
            ],
            "application/vnd.jupyter.widget-view+json": {
              "version_major": 2,
              "version_minor": 0,
              "model_id": "9f0c09930a264065a42ca5ed0817aaaa"
            }
          },
          "metadata": {}
        }
      ]
    },
    {
      "cell_type": "code",
      "source": [
        "# Obtain embeddings for nodes in G using the same Node2Vec model\n",
        "embeddings_G = node_embedding_feature_extraction(G)\n",
        "\n",
        "# Predict relationship between nodes 4 and 9 in graph G using the trained model on G_hardcoded\n",
        "node1_G = 4\n",
        "node2_G = 9\n",
        "relationship_prob_G = predict_relationship_between_nodes(trained_model_hardcoded, embeddings_G, node1_G, node2_G)\n",
        "\n",
        "# Display the predicted probabilities for G\n",
        "print(f\"Probability of Family relationship: {relationship_prob_G[2]:.2f}\")\n",
        "print(f\"Probability of Colleague relationship: {relationship_prob_G[1]:.2f}\")\n",
        "print(f\"Probability of No relationship: {relationship_prob_G[0]:.2f}\")"
      ],
      "metadata": {
        "id": "8kGc8hmedgil"
      },
      "execution_count": null,
      "outputs": []
    }
  ]
}